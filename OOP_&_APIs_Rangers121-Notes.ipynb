{
 "cells": [
  {
   "cell_type": "markdown",
   "metadata": {},
   "source": [
    "# Object Oriented Programming 2 - examples and APIs\n"
   ]
  },
  {
   "cell_type": "markdown",
   "metadata": {},
   "source": [
    "## Tasks Today:\n",
    "\n",
    "   \n",
    "\n",
    "1) <b>Shopping Cart Example</b> <br>\n",
    "2) <b>Requests and the pokemon API </b> <br>\n",
    " "
   ]
  },
  {
   "cell_type": "markdown",
   "metadata": {},
   "source": [
    "# Goal \n",
    "### build a shopping cart program with prices and quantities using objects and a dictionary"
   ]
  },
  {
   "cell_type": "code",
   "execution_count": null,
   "metadata": {},
   "outputs": [],
   "source": [
    "from IPython.display import clear_output as clear\n",
    "\n",
    "class Cart():\n",
    "    def __init__(self):\n",
    "        self.cart = {} #{item: quantity}\n",
    "        \n",
    "    #add items to our cart\n",
    "    def add_items(self):\n",
    "        clear()\n",
    "        new_item = input(\"What would you like to add? \")\n",
    "        quantity = int(input(\"How many of {new_item}(s) would you like to add? \"))\n",
    "        if new_item not in self.cart:\n",
    "            self.cart[new_item] = quantity\n",
    "        else:\n",
    "            self.cart[new_item] += quantity\n",
    "            \n",
    "        print(f\"{quantity} {new_item}(s) has/have been added to your cart. \")\n",
    "        self.show()\n",
    "        \n",
    "    #remove items from cart\n",
    "    def remove_item(self):\n",
    "        clear()\n",
    "        discard = input(\"What would you like to remove? \")\n",
    "        quantity = int(input(\"How many would you like to remove? \"))\n",
    "        try:\n",
    "            self.cart[discard] -= quantity\n",
    "            if self.cart[discard] <= 0:\n",
    "                del self.items[discard]\n",
    "            print(f\"{quantity} {discard}(s) has/have been removed from your cart\")\n",
    "        except:\n",
    "            print(f\"{discard} is not in your cart, please try again! \")\n",
    "            self.show()\n",
    "            \n",
    "    #displaying items in our cart\n",
    "    def show(self):\n",
    "        print(\"Your cart has the following items: \")\n",
    "        for item, quantity in self.cart.items():\n",
    "            print(f\"{item} | quantity: {quantity}\")\n",
    "                  \n",
    "                  \n",
    "    #checkout items from your cart\n",
    "    def checkout(self):\n",
    "        clear()\n",
    "        if not self.cart:\n",
    "            print(\"Please buy something before checking out!\")\n",
    "                  \n",
    "        else:\n",
    "            print(\"Thank you for shopping at Aldi. Please try tyr the strawberry Belle Vie!\")\n",
    "            self.show()\n",
    "        \n",
    "#control flow - runs the program\n",
    "class Main:\n",
    "    def show_instructions():\n",
    "        print(\"\"\"\n",
    "            Welcome to Aldi, we'er the best, and have great peanut butter cups. Try our blackberry Belle Vue.\n",
    "            Options:\n",
    "            [1] Show Current Cart\n",
    "            [2] Add Item\n",
    "            [3] Remove\n",
    "            [4] Checkout\n",
    "            [5] Show Instructions\n",
    "        \"\"\")\n",
    "        \n",
    "    def run():\n",
    "        Main.show_instructions()\n",
    "        my_cart = Cart()\n",
    "        \n",
    "        while True:\n",
    "            choice = input(\"What would you like to do? \")\n",
    "            if choice == \"1\":\n",
    "                if my_cart.cart =={}:\n",
    "                    print(\"Your cart is empty, please add something to view.\")\n",
    "                else:\n",
    "                    my_cart.show()\n",
    "\n",
    "            elif choice == \"2\":\n",
    "                my_cart.add_item()\n",
    "\n",
    "            elif choice == \"3\":\n",
    "                if my_cart.cart =={}:\n",
    "                    print(\"Ypur cart is empy, you can't remoce anything.\")\n",
    "                else:\n",
    "                    my_cart.remove_item()\n",
    "\n",
    "            elif choice == \"4\":\n",
    "                my_cart.checkout()\n",
    "                break\n",
    "\n",
    "            elif choice == \"5\":\n",
    "                Main.show_instructions()\n",
    "\n",
    "            else:\n",
    "                print(\"Invalid input, please try again!\")\n",
    "\n",
    "        \n",
    "            \n",
    "              \n",
    "        \n",
    "        \n",
    "        "
   ]
  },
  {
   "cell_type": "code",
   "execution_count": null,
   "metadata": {},
   "outputs": [],
   "source": [
    "Main.run()"
   ]
  },
  {
   "cell_type": "markdown",
   "metadata": {},
   "source": [
    "# working with APis"
   ]
  },
  {
   "cell_type": "markdown",
   "metadata": {},
   "source": [
    "<p> What exactly is an API? <br> <br>\n",
    "API is the acronym for Application Programming Interface, which is a software intermediary that allows two applications to talk to each other. Each time you use an app like Facebook, send an instant message, or check the weather on your phone, you're using an API. </p>"
   ]
  },
  {
   "cell_type": "markdown",
   "metadata": {},
   "source": [
    "### The Poke API  allows you to retreive a pokemon's information from PokeAPI https://pokeapi.co/\n",
    "\n"
   ]
  },
  {
   "cell_type": "code",
   "execution_count": null,
   "metadata": {},
   "outputs": [],
   "source": [
    "pip install requests"
   ]
  },
  {
   "cell_type": "code",
   "execution_count": null,
   "metadata": {},
   "outputs": [],
   "source": [
    "# making an API call\n",
    "import requests\n",
    "\n",
    "r = requests.get(\"https://pokeapi.co/api/v2/pokemon/charmander\")\n",
    "\n",
    "if r.status_code == 200:\n",
    "    data = r.json()\n",
    "print(data[\"abilities\"])\n",
    "\n",
    "print(data['base_experience'])\n",
    "\n"
   ]
  },
  {
   "cell_type": "code",
   "execution_count": null,
   "metadata": {},
   "outputs": [],
   "source": [
    "#base on the data dictionary: print the pokemon's height and weight\n",
    "\n",
    "print('Charmander\\'s height is:', data['height'])\n",
    "print('Charmander\\'s weight is:', data['weight'])\n",
    "\n",
    "# for game in data[\"game_indices\"]:\n",
    "#     if game[\"game_index\"] == 4:\n",
    "#         print(game['version'] ['name'])\n",
    "        \n",
    "# print(data['game_indices'] [4] ['version'] ['name'])\n",
    "\n",
    "game_indices = data['game_indices']\n",
    "\n",
    "print(game_indices[4][\"version\"][\"name\"])"
   ]
  },
  {
   "cell_type": "markdown",
   "metadata": {},
   "source": [
    "### Display a Pokemon's name, weight, abilities, and types"
   ]
  },
  {
   "cell_type": "code",
   "execution_count": null,
   "metadata": {},
   "outputs": [],
   "source": [
    "#get the name\n",
    "name = data['name']\n",
    "print(name.title())"
   ]
  },
  {
   "cell_type": "code",
   "execution_count": null,
   "metadata": {},
   "outputs": [],
   "source": [
    "#get the weight\n",
    "weight = data[\"weight\"]\n",
    "print(weight, \"kg\")"
   ]
  },
  {
   "cell_type": "code",
   "execution_count": null,
   "metadata": {},
   "outputs": [],
   "source": [
    "#get types\n",
    "types = [type_['type']['name'] for type_ in data['types']]\n",
    "print(types)"
   ]
  },
  {
   "cell_type": "code",
   "execution_count": null,
   "metadata": {},
   "outputs": [],
   "source": [
    "#get abilities\n",
    "# able_list = []\n",
    "# for ablility in data['ability']['name']\n",
    "\n",
    "abilities = [ability['ability']['name'] for ability in data['abilities']]\n",
    "print(abilities)\n"
   ]
  },
  {
   "cell_type": "markdown",
   "metadata": {},
   "source": [
    "#### Create a function to Pull in your own Pokemon's data "
   ]
  },
  {
   "cell_type": "code",
   "execution_count": null,
   "metadata": {},
   "outputs": [],
   "source": [
    "def poke_api_call(pokemon):\n",
    "    req = requests.get(f\"https://pokeapi.co/api/v2/pokemon/{pokemon.lower()}\")\n",
    "    if req.status_code == 200:\n",
    "        data = req.json() #<--- this is a function that \"jsonifies\" the data coming back from the API *turns to a dictionary*\n",
    "        \n",
    "        name = data['name']\n",
    "        weight = data[\"weight\"]\n",
    "        abilities = [ability['ability']['name'] for ability in data['abilities']]\n",
    "        types = [type_[\"type\"]['name'] for type_ in data['types']]\n",
    "        \n",
    "        poke = {\n",
    "            \"name\": name,\n",
    "            \"weight\": weight,\n",
    "            \"abilities\": abilities,\n",
    "            \"types\": types\n",
    "        }\n",
    "        \n",
    "        return poke\n",
    "    \n",
    "print(poke_api_call(\"Heracross\"))\n"
   ]
  },
  {
   "cell_type": "markdown",
   "metadata": {},
   "source": [
    "Choose your pokemon"
   ]
  },
  {
   "cell_type": "code",
   "execution_count": null,
   "metadata": {},
   "outputs": [],
   "source": [
    "from random import randint\n",
    "# Random number generated for each pokemon id\n",
    "random_team = [randint(1,898) for i in range(6)]\n",
    "\n",
    "your_team = ['electabuzz', 'haunter','tyranitar','blaziken','marowak','dragonair']\n"
   ]
  },
  {
   "cell_type": "markdown",
   "metadata": {},
   "source": [
    "#### Use your function to create a dictionary of your favorite 6 pokemon"
   ]
  },
  {
   "cell_type": "code",
   "execution_count": null,
   "metadata": {},
   "outputs": [],
   "source": [
    "# Place all 6 of your pokemon on the object below, each pokemon should have at least as much info as Pikachu did.\n",
    "party = ['heracross', 'vaporeon', 'flygon', 'charizard', 'pidgeot', 'crobat']\n",
    "\n",
    "def create_team(arr):\n",
    "    my_team = {}\n",
    "    for pokemon in arr:\n",
    "        poke_stats = poke_api_call(pokemon)\n",
    "        my_team[pokemon.title()] = poke_stats\n",
    "        \n",
    "    return my_team\n",
    "\n",
    "# print(create_team(party))\n",
    "\n",
    "print(create_team(random_team))\n",
    "        \n"
   ]
  },
  {
   "cell_type": "markdown",
   "metadata": {},
   "source": [
    "## Lets create a class called 'Pokemon' and create our pokemon as instances"
   ]
  },
  {
   "cell_type": "code",
   "execution_count": null,
   "metadata": {},
   "outputs": [],
   "source": [
    "class Pokemon():\n",
    "    def __init__(self, name):\n",
    "        self.name = name\n",
    "        self.types = []\n",
    "        self.abilities = []\n",
    "        self.weight = None\n",
    "        self.poke_api_call()\n",
    "        \n",
    "    def poke_api_call(self):\n",
    "        r = requests.get(f\"https://pokeapi.co/api/v2/pokemon/{self.name.lower()}\")\n",
    "        if r.status_code == 200:\n",
    "            pokemon = r.json()\n",
    "        else:\n",
    "            print(f\"Please check Pokemon name spelling and try again: {r.status_code}\")\n",
    "            \n",
    "        self.name = pokemon['name']\n",
    "        self.types = [type_['type']['name'] for type_ in pokemon['types']]\n",
    "        self.abilities = [ability['ability']['name'] for ability in pokemon['abilities']]\n",
    "        self.weight = pokemon['weight']\n",
    "        print(f\"{self.name}'s data has been updated\")\n",
    "        \n",
    "    def __repr__(self):\n",
    "        return f\"You caught a {self.name}!\"\n",
    "    "
   ]
  },
  {
   "cell_type": "code",
   "execution_count": null,
   "metadata": {},
   "outputs": [],
   "source": [
    "charmander = Pokemon(\"charmander\")\n",
    "print(charmander.__dict__)"
   ]
  },
  {
   "cell_type": "markdown",
   "metadata": {},
   "source": [
    "### Let's Catch some Pokemon"
   ]
  },
  {
   "cell_type": "markdown",
   "metadata": {},
   "source": [
    "## Exercise 1:"
   ]
  },
  {
   "cell_type": "markdown",
   "metadata": {},
   "source": [
    "### Create a Method prints an image of your pokemon\n",
    "\n",
    "<p>HINT: You may need another attribute as well to store your image url within. </p>"
   ]
  },
  {
   "cell_type": "code",
   "execution_count": null,
   "metadata": {},
   "outputs": [],
   "source": [
    "# Display an image in Jupyter notebook\n",
    "from IPython.display import Image\n",
    "\n",
    "# display(Image( 'https://i.redd.it/45n4mhusa8l41.jpg', width = 300))\n",
    "\n",
    "class Pokemon():\n",
    "    def __init__(self, name):\n",
    "        self.name = name\n",
    "        self.types = []\n",
    "        self.abilities = []\n",
    "        self.weight = None\n",
    "        #add image attribute\n",
    "        self.poke_api_call()\n",
    "        \n",
    "    def poke_api_call(self):\n",
    "        r = requests.get(f\"https://pokeapi.co/api/v2/pokemon/{self.name.lower()}\")\n",
    "        if r.status_code == 200:\n",
    "            pokemon = r.json()\n",
    "        else:\n",
    "            print(f\"Please check Pokemon name spelling and try again: {r.status_code}\")\n",
    "            \n",
    "        self.name = pokemon['name']\n",
    "        self.types = [type_['type']['name'] for type_ in pokemon['types']]\n",
    "        self.abilities = [ability['ability']['name'] for ability in pokemon['abilities']]\n",
    "        self.weight = pokemon['weight']\n",
    "        self.image = pokemon['sprites']['other']['dream_world']['front_default']\n",
    "        \n",
    "        print(f\"{self.name.title()}'s data has been updated\")\n",
    "        \n",
    "        \n",
    "        #dispaly our image with a method\n",
    "    def display(self):\n",
    "        display(Image(url = self.image))\n",
    "        \n",
    "    def __repr__(self):\n",
    "        return f\"You caught a {self.name}!\"\n"
   ]
  },
  {
   "cell_type": "code",
   "execution_count": null,
   "metadata": {},
   "outputs": [],
   "source": [
    "charmander = Pokemon(\"charmander\")\n",
    "charmander.display()"
   ]
  },
  {
   "cell_type": "markdown",
   "metadata": {},
   "source": [
    "## Exercise 2:"
   ]
  },
  {
   "cell_type": "markdown",
   "metadata": {},
   "source": [
    "### Create a Method that evolves your Pokemon\n",
    "If your pokemon can't evolve any further print a message that says \"\\<name of pokemon> can't evolve.\""
   ]
  },
  {
   "cell_type": "markdown",
   "metadata": {},
   "source": [
    "Now let's evolve a few"
   ]
  },
  {
   "cell_type": "code",
   "execution_count": null,
   "metadata": {
    "scrolled": true
   },
   "outputs": [],
   "source": [
    "import requests\n",
    "# recreate your pokemon class here\n",
    "# Display an image in Jupyter notebook\n",
    "from IPython.display import Image\n",
    "\n",
    "# display(Image( 'https://i.redd.it/45n4mhusa8l41.jpg', width = 300))\n",
    "\n",
    "class Pokemon():\n",
    "    def __init__(self, name):\n",
    "        self.name = name\n",
    "        self.types = []\n",
    "        self.abilities = []\n",
    "        self.weight = None\n",
    "        #add image attribute\n",
    "        self.poke_api_call()\n",
    "        self.display()\n",
    "        \n",
    "    def poke_api_call(self):\n",
    "        r = requests.get(f\"https://pokeapi.co/api/v2/pokemon/{self.name.lower()}\")\n",
    "        if r.status_code == 200:\n",
    "            pokemon = r.json()\n",
    "        else:\n",
    "            print(f\"Please check Pokemon name spelling and try again: {r.status_code}\")\n",
    "            \n",
    "            \n",
    "            \n",
    "        self.name = pokemon['name']\n",
    "        self.types = [type_['type']['name'] for type_ in pokemon['types']]\n",
    "        self.abilities = [ability['ability']['name'] for ability in pokemon['abilities']]\n",
    "        self.weight = pokemon['weight']\n",
    "        self.image = pokemon['sprites']['other']['dream_world']['front_default']\n",
    "        \n",
    "        print(f\"{self.name.title()}'s data has been updated\")\n",
    "        \n",
    "        \n",
    "        #dispaly our image with a method\n",
    "    def display(self):\n",
    "        display(Image(url = self.image))\n",
    "        \n",
    "    def __repr__(self):\n",
    "        return f\"You caught a {self.name}!\"\n"
   ]
  },
  {
   "cell_type": "code",
   "execution_count": null,
   "metadata": {},
   "outputs": [],
   "source": [
    "from time import sleep\n",
    "## Evolver class should inherit pokemon class\n",
    "class Evolver(Pokemon):\n",
    "    def __init__(self, name):\n",
    "        super().__init__(name)\n",
    "        \n",
    "    def evolve(self):\n",
    "        #Api call for pokemon species\n",
    "        r = requests.get(f\"https://pokeapi.co/api/v2/pokemon-species/{self.name}/\")\n",
    "        if r.status_code == 200:\n",
    "            pokemon_species = r.json()\n",
    "        else: \n",
    "            print(f\"Ran into an issue, please check your spelling and try again: {r.status_code}\")\n",
    "            return\n",
    "        \n",
    "        r = requests.get(pokemon_species['evolution_chain']['url'])\n",
    "        if r.status_code == 200:\n",
    "            ev_chain = r.json()\n",
    "            ev_chain = ev_chain['chain']\n",
    "        else:\n",
    "            print(f\"Ran into an issue, please check your pokemon's name and try again: {r.status_code}\")\n",
    "            return\n",
    "        \n",
    "        base_name = ev_chain['species']['name']\n",
    "        evolution = ev_chain['evolves_to'][0]\n",
    "        evolution_name = evolution['species']['name']\n",
    "        \n",
    "        \n",
    "        #Evolution 1\n",
    "        if base_name == self.name:\n",
    "            pass\n",
    "        #Evolution 2\n",
    "        elif evolution_name == self.name:\n",
    "            evolution_name = evolution['evolves_to'][0]['species']['name']\n",
    "        #Attempting another evolution after the final\n",
    "        else:\n",
    "            print(f\"You cannot evolve your {self.name} and further...\")\n",
    "            return\n",
    "        \n",
    "        print(\"..........\")\n",
    "        sleep(1)\n",
    "        print(f\"Your {self.name} is evolving!?!?!?!?!?!\")\n",
    "        self.display()\n",
    "        sleep(1)\n",
    "        print(\"..........\")\n",
    "        print(f\"Congratulations!!! your {self.name} has evolved to.....\")\n",
    "        self.name = evolution_name\n",
    "        self.poke_api_call()\n",
    "        print(f\"{self.name.title()}!!!!!\")\n",
    "        self.display()\n",
    "            \n",
    "            "
   ]
  },
  {
   "cell_type": "code",
   "execution_count": null,
   "metadata": {
    "scrolled": true
   },
   "outputs": [],
   "source": [
    "charmander = Evolver(\"charmander\")"
   ]
  },
  {
   "cell_type": "code",
   "execution_count": null,
   "metadata": {
    "scrolled": true
   },
   "outputs": [],
   "source": [
    "charmander.evolve()"
   ]
  },
  {
   "cell_type": "code",
   "execution_count": null,
   "metadata": {},
   "outputs": [],
   "source": [
    "charmander.evolve()"
   ]
  },
  {
   "cell_type": "markdown",
   "metadata": {},
   "source": [
    "#  Final Exercise: <br> <br>Create a Move_Tutor Class that in herits from the Pokemon parent class.\n",
    "\n",
    "<p><b>This class should have a list attribute that holds pokemon moves which should be populated with an api call to the PokeApi moves section. Finally create a class method that teaches your pokemon up to 4 moves.</b></p> \n",
    "\n"
   ]
  },
  {
   "cell_type": "code",
   "execution_count": 3,
   "metadata": {},
   "outputs": [],
   "source": [
    "import requests\n",
    "\n",
    "class Move_Tutor:\n",
    "    def __init__(self):\n",
    "        self.movelist = []\n",
    "    \n",
    "    def teach(self):\n",
    "        teach_name = input(\"What would you like to teach? \")\n",
    "        move = HM(teach_name)\n",
    "        move.move_api_call()\n",
    "        self.movelist.append(move)\n",
    "        print(f\"Learned the move {self.movelist[-1].move_name.title()}!\")  \n",
    "\n",
    "class HM:\n",
    "    def __init__(self,move_name):\n",
    "        self.move_name = move_name\n",
    "        self.move_accuracy = None\n",
    "        self.move_pp = None\n",
    "        self.move_power = None\n",
    "    \n",
    "    def move_api_call(self):\n",
    "        r = requests.get(f\"https://pokeapi.co/api/v2/move/{self.move_name}\")\n",
    "        if r.status_code == 200:\n",
    "            data = r.json()\n",
    "        else:\n",
    "            print(f'Ran into an issue: {r.status_code}')\n",
    "            return\n",
    "        \n",
    "        self.move_accuracy = data['accuracy']\n",
    "        self.move_pp = data['pp']\n",
    "        self.move_power = data['power']\n",
    "        print(f'Move: \"{self.move_name.title()}\" data has been added!') \n",
    "\n",
    "class Pokemon(Move_Tutor):\n",
    "    def __init__(self,name):\n",
    "        Move_Tutor.__init__(self)\n",
    "        self.name = name\n",
    "        self.types = []\n",
    "        self.abilities = []\n",
    "    \n",
    "    def poke_api_call(self):\n",
    "        r = requests.get(f\"https://pokeapi.co/api/v2/pokemon/{self.name}\")\n",
    "        if r.status_code == 200:\n",
    "            data = r.json()\n",
    "        else:\n",
    "            print(f'Ran into an issue: {r.status_code}')\n",
    "            return\n",
    "        \n",
    "        self.types = [pokemon['type']['name'] for pokemon in data['types']]\n",
    "        self.abilities = [poke['ability']['name'] for poke in data['abilities']]\n",
    "        self.weight = data['weight']\n",
    "        print(f'{self.name.title()}\\'s data has been updated!')\n",
    "        \n",
    "pikachu = Pokemon('pikachu')\n",
    "\n"
   ]
  },
  {
   "cell_type": "code",
   "execution_count": 7,
   "metadata": {
    "scrolled": true
   },
   "outputs": [
    {
     "name": "stdout",
     "output_type": "stream",
     "text": [
      "What would you like to teach? pound\n",
      "Move: \"Pound\" data has been added!\n",
      "Learned the move Pound!\n",
      "{'move_name': 'agility', 'move_accuracy': None, 'move_pp': 30, 'move_power': None}\n",
      "{'move_name': 'thunder', 'move_accuracy': 70, 'move_pp': 10, 'move_power': 110}\n",
      "{'move_name': 'growl', 'move_accuracy': 100, 'move_pp': 40, 'move_power': None}\n",
      "{'move_name': 'pound', 'move_accuracy': 100, 'move_pp': 35, 'move_power': 40}\n"
     ]
    }
   ],
   "source": [
    "pikachu.teach()\n",
    "for move in pikachu.movelist:\n",
    "    print(move.__dict__)"
   ]
  },
  {
   "cell_type": "code",
   "execution_count": null,
   "metadata": {},
   "outputs": [],
   "source": []
  }
 ],
 "metadata": {
  "kernelspec": {
   "display_name": "Python 3 (ipykernel)",
   "language": "python",
   "name": "python3"
  },
  "language_info": {
   "codemirror_mode": {
    "name": "ipython",
    "version": 3
   },
   "file_extension": ".py",
   "mimetype": "text/x-python",
   "name": "python",
   "nbconvert_exporter": "python",
   "pygments_lexer": "ipython3",
   "version": "3.11.3"
  }
 },
 "nbformat": 4,
 "nbformat_minor": 4
}
